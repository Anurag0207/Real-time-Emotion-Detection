{
  "cells": [
    {
      "cell_type": "code",
      "execution_count": null,
      "metadata": {
        "id": "gTRgs2yHEnRL"
      },
      "outputs": [],
      "source": [
        "import numpy as np\n",
        "import pandas as pd\n",
        "import matplotlib.pyplot as plt\n",
        "import scipy\n",
        "import os\n",
        "for dirname, _, filenames in os.walk('/content/your_dataset_directory'):\n",
        "    for filename in filenames:\n",
        "        print(os.path.join(dirname, filename))"
      ]
    },
    {
      "cell_type": "code",
      "execution_count": null,
      "metadata": {
        "id": "NxEh3OlCEszs"
      },
      "outputs": [],
      "source": [
        "from sklearn.model_selection import train_test_split\n",
        "from keras.models import Sequential\n",
        "from keras.layers import Dense, Dropout, Activation, Flatten\n",
        "from keras.layers import Conv2D, MaxPooling2D, BatchNormalization\n",
        "from keras.losses import categorical_crossentropy\n",
        "from tensorflow.keras.optimizers import Adam\n",
        "from keras.regularizers import l2\n",
        "from keras.callbacks import ReduceLROnPlateau, TensorBoard, EarlyStopping, ModelCheckpoint\n",
        "import keras\n",
        "from tensorflow.keras.optimizers import Adamax\n",
        "import tensorflow as tf\n",
        "from tensorflow import keras\n",
        "import matplotlib.pyplot as plt\n",
        "import numpy as np\n",
        "import pandas as pd\n",
        "from keras.models import Model,load_model\n",
        "from keras.models import Model\n",
        "from keras.layers import Input,ELU ,Dense ,Conv2D ,Add ,Activation , Flatten, Dropout , GlobalAveragePooling2D, MaxPooling2D, BatchNormalization, GlobalMaxPooling2D, AveragePooling2D, Subtract, Concatenate, ZeroPadding2D,Conv2DTranspose,SeparableConv2D\n",
        "import tensorflow as tf\n",
        "from keras import regularizers"
      ]
    },
    {
      "cell_type": "code",
      "execution_count": null,
      "metadata": {
        "colab": {
          "base_uri": "https://localhost:8080/"
        },
        "id": "CfTfMDWuFG37",
        "outputId": "d2642069-31e1-4843-b750-02053cce565a"
      },
      "outputs": [
        {
          "name": "stdout",
          "output_type": "stream",
          "text": [
            "Requirement already satisfied: gdown in /usr/local/lib/python3.10/dist-packages (4.6.6)\n",
            "Requirement already satisfied: filelock in /usr/local/lib/python3.10/dist-packages (from gdown) (3.12.4)\n",
            "Requirement already satisfied: requests[socks] in /usr/local/lib/python3.10/dist-packages (from gdown) (2.31.0)\n",
            "Requirement already satisfied: six in /usr/local/lib/python3.10/dist-packages (from gdown) (1.16.0)\n",
            "Requirement already satisfied: tqdm in /usr/local/lib/python3.10/dist-packages (from gdown) (4.66.1)\n",
            "Requirement already satisfied: beautifulsoup4 in /usr/local/lib/python3.10/dist-packages (from gdown) (4.11.2)\n",
            "Requirement already satisfied: soupsieve>1.2 in /usr/local/lib/python3.10/dist-packages (from beautifulsoup4->gdown) (2.5)\n",
            "Requirement already satisfied: charset-normalizer<4,>=2 in /usr/local/lib/python3.10/dist-packages (from requests[socks]->gdown) (3.3.0)\n",
            "Requirement already satisfied: idna<4,>=2.5 in /usr/local/lib/python3.10/dist-packages (from requests[socks]->gdown) (3.4)\n",
            "Requirement already satisfied: urllib3<3,>=1.21.1 in /usr/local/lib/python3.10/dist-packages (from requests[socks]->gdown) (2.0.7)\n",
            "Requirement already satisfied: certifi>=2017.4.17 in /usr/local/lib/python3.10/dist-packages (from requests[socks]->gdown) (2023.7.22)\n",
            "Requirement already satisfied: PySocks!=1.5.7,>=1.5.6 in /usr/local/lib/python3.10/dist-packages (from requests[socks]->gdown) (1.7.1)\n"
          ]
        },
        {
          "name": "stderr",
          "output_type": "stream",
          "text": [
            "Downloading...\n",
            "From: https://drive.google.com/uc?id=1Bkr0Ii8JKUOHGFq71NkzGuqJpoG1mYrD\n",
            "To: /content/dataset.zip\n",
            "100%|██████████| 101M/101M [00:01<00:00, 67.0MB/s] \n"
          ]
        }
      ],
      "source": [
        "!pip install gdown\n",
        "file_id = \"1Bkr0Ii8JKUOHGFq71NkzGuqJpoG1mYrD\"\n",
        "output_file = \"/content/dataset.zip\"\n",
        "\n",
        "import gdown\n",
        "gdown.download(f\"https://drive.google.com/uc?id={file_id}\", output_file, quiet=False)\n",
        "\n",
        "import zipfile\n",
        "with zipfile.ZipFile(output_file, 'r') as zip_ref:\n",
        "    zip_ref.extractall(\"/content\")\n",
        "\n"
      ]
    },
    {
      "cell_type": "code",
      "execution_count": null,
      "metadata": {
        "id": "sGQBd6nfFR9x"
      },
      "outputs": [],
      "source": [
        "def dataset():\n",
        "  df = pd.read_csv(\"/content/fer2013/fer2013/fer2013.csv\")\n",
        "  train_samples = df[df['Usage']==\"Training\"]\n",
        "  validation_samples = df[df['Usage']=='PublicTest']\n",
        "  test_samples=df[df[\"Usage\"]==\"PrivateTest\"]\n",
        "\n",
        "  y_train=keras.utils.to_categorical(train_samples.emotion, num_classes=7 )\n",
        "  y_valid=keras.utils.to_categorical(validation_samples.emotion, num_classes=7)\n",
        "  y_test=keras.utils.to_categorical(test_samples.emotion, num_classes=7)\n",
        "\n",
        "\n",
        "  x_train = np.array([np.fromstring(image, np.uint8, sep=\" \").reshape((48, 48)) for image in train_samples.pixels])\n",
        "  x_valid = np.array([np.fromstring(image, np.uint8, sep=\" \").reshape((48, 48)) for image in validation_samples.pixels])\n",
        "  x_test = np.array([np.fromstring(image, np.uint8, sep=\" \").reshape((48, 48)) for image in test_samples.pixels])\n",
        "  return x_train, y_train, x_valid, y_valid, x_test, y_test\n",
        "\n",
        "x_train, y_train, x_valid, y_valid, x_test, y_test = dataset()\n",
        "\n"
      ]
    },
    {
      "cell_type": "code",
      "execution_count": null,
      "metadata": {
        "colab": {
          "base_uri": "https://localhost:8080/",
          "height": 508
        },
        "id": "_-J29ipmFUUA",
        "outputId": "67518aba-6257-480f-f599-73aedbd32883"
      },
      "outputs": [
        {
          "name": "stderr",
          "output_type": "stream",
          "text": [
            "/usr/local/lib/python3.10/dist-packages/matplotlib/text.py:1279: FutureWarning: elementwise comparison failed; returning scalar instead, but in the future will perform elementwise comparison\n",
            "  if s != self._text:\n"
          ]
        },
        {
          "data": {
            "image/png": "[encoded data removed]",
            "text/plain": [
              "<Figure size 640x480 with 1 Axes>"
            ]
          },
          "metadata": {},
          "output_type": "display_data"
        }
      ],
      "source": [
        "first_image = x_train[0]\n",
        "plt.imshow(first_image, cmap='gray')\n",
        "plt.title(y_train[0])\n",
        "plt.show()"
      ]
    },
    {
      "cell_type": "code",
      "execution_count": null,
      "metadata": {
        "id": "VG0izSI7JUN7"
      },
      "outputs": [],
      "source": [
        "def model(lr=0.001):\n",
        "  input=Input(shape=(48,48,1))\n",
        "  block1_layer11=SeparableConv2D(32,(3,3), padding=\"valid\",data_format='channels_last',kernel_regularizer=regularizers.l2(0.00001),name='block1_sep_conv1')(input)\n",
        "  block1_layer1=Activation('relu',name='block1_relu1')(block1_layer11)\n",
        "  block1_layer1=BatchNormalization(name='block1_batch1')(block1_layer1)\n",
        "  block1_layer1=Dropout(0.1,name='block1_drop1')(block1_layer1)\n",
        "  block1_layer2=SeparableConv2D(32,(3,3), padding='same',kernel_regularizer=regularizers.l2(0.00001),name='block1_sep_conv2')(block1_layer1)\n",
        "  block1_layer2=Activation('relu',name='block1_relu2')(block1_layer2)\n",
        "  block1_layer2=BatchNormalization(name='block1_batch2')(block1_layer2)\n",
        "  block1_layer2=Dropout(0.1,name='block1_drop2')(block1_layer2)\n",
        "  block1_layer3=SeparableConv2D(32,(3,3), padding='same',kernel_regularizer=regularizers.l2(0.00001),name='block1_sep_conv3')(block1_layer2)\n",
        "  block1_add1=Add(name='block1_add')([block1_layer3,block1_layer11])\n",
        "  block1_layer3=Activation('relu',name='block1_relu')(block1_add1)\n",
        "  block1_layer3=BatchNormalization(name='block1_batch3')(block1_layer3)\n",
        "  block1_layer3=ZeroPadding2D((3,3),name='block1_zeroo')(block1_layer3)\n",
        "  block1_layer3=AveragePooling2D(name='block1_avg')(block1_layer3)\n",
        "  block1_layer3=Dropout(0.1,name='block1_drop3')(block1_layer3)\n",
        "  block2_layer11=SeparableConv2D(64,(3,3), padding='valid',kernel_regularizer=regularizers.l2(0.00001),name='block2_sep_conv1')(block1_layer3)\n",
        "  block2_layer1=Activation('relu',name='block2_relu1')(block2_layer11)\n",
        "  block2_layer1=BatchNormalization(name='block2_batch1')(block2_layer1)\n",
        "  block2_layer1=Dropout(0.2,name='block2_drop1')(block2_layer1)\n",
        "  block2_layer2=SeparableConv2D(64,(3,3), padding='same',kernel_regularizer=regularizers.l2(0.00001),name='block2_sep_conv2')(block2_layer1)\n",
        "  block2_layer2=Activation('relu',name='block2_relu2')(block2_layer2)\n",
        "  block2_layer2=BatchNormalization(name='block2_batch2')(block2_layer2)\n",
        "  block2_layer2=Dropout(0.2,name='block2_drop2')(block2_layer2)\n",
        "  block2_layer3=SeparableConv2D(64,(3,3), padding='same',kernel_regularizer=regularizers.l2(0.00001),name='block2_sep_conv3')(block2_layer2)\n",
        "  block2_add1=Add(name='block2_add')([block2_layer3,block2_layer11])\n",
        "  block2_layer3=Activation('relu',name='block2_relu')(block2_add1)\n",
        "  block2_layer3=BatchNormalization(name='block2_batch3')(block2_layer3)\n",
        "  block2_layer3=ZeroPadding2D((3,3),name='block2_zeroo')(block2_layer3)\n",
        "  block2_layer3=AveragePooling2D(name='block2_avg')(block2_layer3)\n",
        "  block2_layer3=Dropout(0.2,name='block2_drop3')(block2_layer3)\n",
        "  block3_layer11=SeparableConv2D(96,(3,3), padding='valid',kernel_regularizer=regularizers.l2(0.00001),name='block3_sep_conv1')(block2_layer3)\n",
        "  block3_layer1=Activation('relu',name='block3_relu1')(block3_layer11)\n",
        "  block3_layer1=BatchNormalization(name='block3_batch1')(block3_layer1)\n",
        "  block3_layer1=Dropout(0.25,name='block3_drop1')(block3_layer1)\n",
        "  block3_layer2=SeparableConv2D(96,(3,3), padding='same',kernel_regularizer=regularizers.l2(0.00001),name='block3_sep_conv2')(block3_layer1)\n",
        "  block3_layer2=Activation('relu',name='block3_relu2')(block3_layer2)\n",
        "  block3_layer2=BatchNormalization(name='block3_batch2')(block3_layer2)\n",
        "  block3_layer2=Dropout(0.25,name='block3_drop2')(block3_layer2)\n",
        "  block3_layer3=SeparableConv2D(96,(3,3), padding='same',kernel_regularizer=regularizers.l2(0.00001),name='block3_sep_conv3')(block3_layer2)\n",
        "  block3_add1=Add(name='block3_add')([block3_layer3,block3_layer11])\n",
        "  block3_layer3=Activation('relu',name='block3_relu')(block3_add1)\n",
        "  block3_layer3=BatchNormalization(name='block3_batch3')(block3_layer3)\n",
        "  block3_layer3=ZeroPadding2D((3,3),name='block3_zeroo')(block3_layer3)\n",
        "  block3_layer3=AveragePooling2D(name='block3_avg')(block3_layer3)\n",
        "  block3_layer3=Dropout(0.25,name='block3_drop3')(block3_layer3)\n",
        "  Global_Pooling=GlobalMaxPooling2D(name='Global_Pooling')(block3_layer3)\n",
        "  Drop_Global_Pooling=Dropout(0.25,name='dense_drop1')(Global_Pooling)\n",
        "  Dens1=Dense(96,activation='relu',name='dense1')(Drop_Global_Pooling)\n",
        "  Dens1=BatchNormalization(name='dense_batch')(Dens1)\n",
        "  Drop_Dens1=Dropout(0.25,name='dense_drop2')(Dens1)\n",
        "\n",
        "  Softmax_=Dense(7,activation='softmax',name='softmax')(Drop_Dens1)\n",
        "  model=Model(input, Softmax_)\n",
        "  model.summary()\n",
        "  model.compile(loss=\"categorical_crossentropy\", optimizer=Adam(lr=0.001) , metrics=['accuracy'])\n",
        "  return model\n",
        "\n"
      ]
    },
    {
      "cell_type": "code",
      "execution_count": null,
      "metadata": {
        "colab": {
          "base_uri": "https://localhost:8080/"
        },
        "id": "uF7d1UsnMhCI",
        "outputId": "a2fad877-40a9-41f5-defe-ce522dbb80c3"
      },
      "outputs": [
        {
          "name": "stdout",
          "output_type": "stream",
          "text": [
            "Model: \"model\"\n",
            "__________________________________________________________________________________________________\n",
            " Layer (type)                Output Shape                 Param #   Connected to                  \n",
            "==================================================================================================\n",
            " input_1 (InputLayer)        [(None, 48, 48, 1)]          0         []                            \n",
            "                                                                                                  \n",
            " block1_sep_conv1 (Separabl  (None, 46, 46, 32)           73        ['input_1[0][0]']             \n",
            " eConv2D)                                                                                         \n",
            "                                                                                                  \n",
            " block1_relu1 (Activation)   (None, 46, 46, 32)           0         ['block1_sep_conv1[0][0]']    \n",
            "                                                                                                  \n",
            " block1_batch1 (BatchNormal  (None, 46, 46, 32)           128       ['block1_relu1[0][0]']        \n",
            " ization)                                                                                         \n",
            "                                                                                                  \n",
            " block1_drop1 (Dropout)      (None, 46, 46, 32)           0         ['block1_batch1[0][0]']       \n",
            "                                                                                                  \n",
            " block1_sep_conv2 (Separabl  (None, 46, 46, 32)           1344      ['block1_drop1[0][0]']        \n",
            " eConv2D)                                                                                         \n",
            "                                                                                                  \n",
            " block1_relu2 (Activation)   (None, 46, 46, 32)           0         ['block1_sep_conv2[0][0]']    \n",
            "                                                                                                  \n",
            " block1_batch2 (BatchNormal  (None, 46, 46, 32)           128       ['block1_relu2[0][0]']        \n",
            " ization)                                                                                         \n",
            "                                                                                                  \n",
            " block1_drop2 (Dropout)      (None, 46, 46, 32)           0         ['block1_batch2[0][0]']       \n",
            "                                                                                                  \n",
            " block1_sep_conv3 (Separabl  (None, 46, 46, 32)           1344      ['block1_drop2[0][0]']        \n",
            " eConv2D)                                                                                         \n",
            "                                                                                                  \n",
            " block1_add (Add)            (None, 46, 46, 32)           0         ['block1_sep_conv3[0][0]',    \n",
            "                                                                     'block1_sep_conv1[0][0]']    \n",
            "                                                                                                  \n",
            " block1_relu (Activation)    (None, 46, 46, 32)           0         ['block1_add[0][0]']          \n",
            "                                                                                                  \n",
            " block1_batch3 (BatchNormal  (None, 46, 46, 32)           128       ['block1_relu[0][0]']         \n",
            " ization)                                                                                         \n",
            "                                                                                                  \n",
            " block1_zeroo (ZeroPadding2  (None, 52, 52, 32)           0         ['block1_batch3[0][0]']       \n",
            " D)                                                                                               \n",
            "                                                                                                  \n",
            " block1_avg (AveragePooling  (None, 26, 26, 32)           0         ['block1_zeroo[0][0]']        \n",
            " 2D)                                                                                              \n",
            "                                                                                                  \n",
            " block1_drop3 (Dropout)      (None, 26, 26, 32)           0         ['block1_avg[0][0]']          \n",
            "                                                                                                  \n",
            " block2_sep_conv1 (Separabl  (None, 24, 24, 64)           2400      ['block1_drop3[0][0]']        \n",
            " eConv2D)                                                                                         \n",
            "                                                                                                  \n",
            " block2_relu1 (Activation)   (None, 24, 24, 64)           0         ['block2_sep_conv1[0][0]']    \n",
            "                                                                                                  \n",
            " block2_batch1 (BatchNormal  (None, 24, 24, 64)           256       ['block2_relu1[0][0]']        \n",
            " ization)                                                                                         \n",
            "                                                                                                  \n",
            " block2_drop1 (Dropout)      (None, 24, 24, 64)           0         ['block2_batch1[0][0]']       \n",
            "                                                                                                  \n",
            " block2_sep_conv2 (Separabl  (None, 24, 24, 64)           4736      ['block2_drop1[0][0]']        \n",
            " eConv2D)                                                                                         \n",
            "                                                                                                  \n",
            " block2_relu2 (Activation)   (None, 24, 24, 64)           0         ['block2_sep_conv2[0][0]']    \n",
            "                                                                                                  \n",
            " block2_batch2 (BatchNormal  (None, 24, 24, 64)           256       ['block2_relu2[0][0]']        \n",
            " ization)                                                                                         \n",
            "                                                                                                  \n",
            " block2_drop2 (Dropout)      (None, 24, 24, 64)           0         ['block2_batch2[0][0]']       \n",
            "                                                                                                  \n",
            " block2_sep_conv3 (Separabl  (None, 24, 24, 64)           4736      ['block2_drop2[0][0]']        \n",
            " eConv2D)                                                                                         \n",
            "                                                                                                  \n",
            " block2_add (Add)            (None, 24, 24, 64)           0         ['block2_sep_conv3[0][0]',    \n",
            "                                                                     'block2_sep_conv1[0][0]']    \n",
            "                                                                                                  \n",
            " block2_relu (Activation)    (None, 24, 24, 64)           0         ['block2_add[0][0]']          \n",
            "                                                                                                  \n",
            " block2_batch3 (BatchNormal  (None, 24, 24, 64)           256       ['block2_relu[0][0]']         \n",
            " ization)                                                                                         \n",
            "                                                                                                  \n",
            " block2_zeroo (ZeroPadding2  (None, 30, 30, 64)           0         ['block2_batch3[0][0]']       \n",
            " D)                                                                                               \n",
            "                                                                                                  \n",
            " block2_avg (AveragePooling  (None, 15, 15, 64)           0         ['block2_zeroo[0][0]']        \n",
            " 2D)                                                                                              \n",
            "                                                                                                  \n",
            " block2_drop3 (Dropout)      (None, 15, 15, 64)           0         ['block2_avg[0][0]']          \n",
            "                                                                                                  \n",
            " block3_sep_conv1 (Separabl  (None, 13, 13, 96)           6816      ['block2_drop3[0][0]']        \n",
            " eConv2D)                                                                                         \n",
            "                                                                                                  \n",
            " block3_relu1 (Activation)   (None, 13, 13, 96)           0         ['block3_sep_conv1[0][0]']    \n",
            "                                                                                                  \n",
            " block3_batch1 (BatchNormal  (None, 13, 13, 96)           384       ['block3_relu1[0][0]']        \n",
            " ization)                                                                                         \n",
            "                                                                                                  \n",
            " block3_drop1 (Dropout)      (None, 13, 13, 96)           0         ['block3_batch1[0][0]']       \n",
            "                                                                                                  \n",
            " block3_sep_conv2 (Separabl  (None, 13, 13, 96)           10176     ['block3_drop1[0][0]']        \n",
            " eConv2D)                                                                                         \n",
            "                                                                                                  \n",
            " block3_relu2 (Activation)   (None, 13, 13, 96)           0         ['block3_sep_conv2[0][0]']    \n",
            "                                                                                                  \n",
            " block3_batch2 (BatchNormal  (None, 13, 13, 96)           384       ['block3_relu2[0][0]']        \n",
            " ization)                                                                                         \n",
            "                                                                                                  \n",
            " block3_drop2 (Dropout)      (None, 13, 13, 96)           0         ['block3_batch2[0][0]']       \n",
            "                                                                                                  \n",
            " block3_sep_conv3 (Separabl  (None, 13, 13, 96)           10176     ['block3_drop2[0][0]']        \n",
            " eConv2D)                                                                                         \n",
            "                                                                                                  \n",
            " block3_add (Add)            (None, 13, 13, 96)           0         ['block3_sep_conv3[0][0]',    \n",
            "                                                                     'block3_sep_conv1[0][0]']    \n",
            "                                                                                                  \n",
            " block3_relu (Activation)    (None, 13, 13, 96)           0         ['block3_add[0][0]']          \n",
            "                                                                                                  \n",
            " block3_batch3 (BatchNormal  (None, 13, 13, 96)           384       ['block3_relu[0][0]']         \n",
            " ization)                                                                                         \n",
            "                                                                                                  \n",
            " block3_zeroo (ZeroPadding2  (None, 19, 19, 96)           0         ['block3_batch3[0][0]']       \n",
            " D)                                                                                               \n",
            "                                                                                                  \n",
            " block3_avg (AveragePooling  (None, 9, 9, 96)             0         ['block3_zeroo[0][0]']        \n",
            " 2D)                                                                                              \n",
            "                                                                                                  \n",
            " block3_drop3 (Dropout)      (None, 9, 9, 96)             0         ['block3_avg[0][0]']          \n",
            "                                                                                                  \n",
            " Global_Pooling (GlobalMaxP  (None, 96)                   0         ['block3_drop3[0][0]']        \n",
            " ooling2D)                                                                                        \n",
            "                                                                                                  \n",
            " dense_drop1 (Dropout)       (None, 96)                   0         ['Global_Pooling[0][0]']      \n",
            "                                                                                                  \n",
            " dense1 (Dense)              (None, 96)                   9312      ['dense_drop1[0][0]']         \n",
            "                                                                                                  \n",
            " dense_batch (BatchNormaliz  (None, 96)                   384       ['dense1[0][0]']              \n",
            " ation)                                                                                           \n",
            "                                                                                                  \n",
            " dense_drop2 (Dropout)       (None, 96)                   0         ['dense_batch[0][0]']         \n",
            "                                                                                                  \n",
            " softmax (Dense)             (None, 7)                    679       ['dense_drop2[0][0]']         \n",
            "                                                                                                  \n",
            "==================================================================================================\n",
            "Total params: 54480 (212.81 KB)\n",
            "Trainable params: 53136 (207.56 KB)\n",
            "Non-trainable params: 1344 (5.25 KB)\n",
            "__________________________________________________________________________________________________\n"
          ]
        },
        {
          "name": "stderr",
          "output_type": "stream",
          "text": [
            "WARNING:absl:`lr` is deprecated in Keras optimizer, please use `learning_rate` or use the legacy optimizer, e.g.,tf.keras.optimizers.legacy.Adam.\n"
          ]
        }
      ],
      "source": [
        "model=model()"
      ]
    },
    {
      "cell_type": "code",
      "execution_count": null,
      "metadata": {
        "colab": {
          "base_uri": "https://localhost:8080/"
        },
        "id": "urG8I1VaLXPr",
        "outputId": "b38e18d8-163e-4d71-a535-00b66026f068"
      },
      "outputs": [
        {
          "name": "stdout",
          "output_type": "stream",
          "text": [
            "Epoch 1/50\n"
          ]
        },
        {
          "name": "stderr",
          "output_type": "stream",
          "text": [
            "<ipython-input-8-5d2cabb47d72>:16: UserWarning: `Model.fit_generator` is deprecated and will be removed in a future version. Please use `Model.fit`, which supports generators.\n",
            "  history = model.fit_generator(aug.flow(np.array(x_train_std),np.array(y_train),batch_size=64),epochs=50,callbacks=callbacks_list,validation_data=(np.array(x_valid_std),np.array(y_valid)),steps_per_epoch=len(np.array(x_train_std))/64)\n"
          ]
        },
        {
          "name": "stdout",
          "output_type": "stream",
          "text": [
            "449/448 [==============================] - ETA: 0s - loss: 2.0339 - accuracy: 0.2063\n",
            "Epoch 1: val_loss improved from inf to 1.83606, saving model to /content/drive/My Drive/weights.bestvgg.h5\n",
            "448/448 [==============================] - 392s 855ms/step - loss: 2.0339 - accuracy: 0.2063 - val_loss: 1.8361 - val_accuracy: 0.2494\n",
            "Epoch 2/50\n"
          ]
        },
        {
          "name": "stderr",
          "output_type": "stream",
          "text": [
            "/usr/local/lib/python3.10/dist-packages/keras/src/engine/training.py:3079: UserWarning: You are saving your model as an HDF5 file via `model.save()`. This file format is considered legacy. We recommend using instead the native Keras format, e.g. `model.save('my_model.keras')`.\n",
            "  saving_api.save_model(\n"
          ]
        },
        {
          "name": "stdout",
          "output_type": "stream",
          "text": [
            "449/448 [==============================] - ETA: 0s - loss: 1.8296 - accuracy: 0.2432\n",
            "Epoch 2: val_loss improved from 1.83606 to 1.80227, saving model to /content/drive/My Drive/weights.bestvgg.h5\n",
            "448/448 [==============================] - 374s 835ms/step - loss: 1.8296 - accuracy: 0.2432 - val_loss: 1.8023 - val_accuracy: 0.2491\n",
            "Epoch 3/50\n",
            "133/448 [=======>......................] - ETA: 4:21 - loss: 1.8000 - accuracy: 0.2586"
          ]
        }
      ],
      "source": [
        "if __name__==\"__main__\":\n",
        "\n",
        "    x_train, y_train, x_valid, y_valid, x_test, y_test =  dataset()\n",
        "\n",
        "    x_train = x_train.reshape((-1,48,48,1)).astype(np.float32)\n",
        "    x_valid = x_valid.reshape((-1,48,48,1)).astype(np.float32)\n",
        "    x_test = x_test.reshape((-1,48,48,1)).astype(np.float32)\n",
        "    filepath=\"/content/drive/My Drive/weights.bestvgg.h5\"\n",
        "    checkpoint = ModelCheckpoint(filepath, monitor='val_loss', verbose=1, save_best_only=True, mode='min')\n",
        "    callbacks_list = [checkpoint]\n",
        "    x_train_std = x_train/255.\n",
        "    x_valid_std = x_valid/255.\n",
        "    x_test_std = x_test/255.\n",
        "    aug = keras.preprocessing.image.ImageDataGenerator(rotation_range=0.25,width_shift_range=0.1,shear_range=0.2,zoom_range=0.2,horizontal_flip=True,fill_mode=\"nearest\")\n",
        "    with tf.device(\"/gpu:0\"):\n",
        "         history = model.fit_generator(aug.flow(np.array(x_train_std),np.array(y_train),batch_size=64),epochs=50,callbacks=callbacks_list,validation_data=(np.array(x_valid_std),np.array(y_valid)),steps_per_epoch=len(np.array(x_train_std))/64)\n",
        "         loss_test, acc_test=model.evaluate(x_test_std,y_test)\n",
        "         print(loss_test, acc_test)"
      ]
    },
    {
      "cell_type": "code",
      "execution_count": null,
      "metadata": {
        "id": "ojFNMzbfRArZ"
      },
      "outputs": [],
      "source": [
        "model.save(\"emotion_detector.h5\")\n"
      ]
    },
    {
      "cell_type": "code",
      "execution_count": null,
      "metadata": {
        "id": "XrcQOi2yRC5M"
      },
      "outputs": [],
      "source": [
        "model_json = model.to_json()\n",
        "with open(\"emotion_detector.json\", \"w\") as json_file:\n",
        "    json_file.write(model_json)\n",
        "model.save_weights(\"motion_detector_weights.h5\")\n"
      ]
    },
    {
      "cell_type": "code",
      "execution_count": null,
      "metadata": {
        "id": "LANonbLga8Nz"
      },
      "outputs": [],
      "source": [
        "model.save_weights(\"motion_detector_weights.h5\")\n"
      ]
    },
    {
      "cell_type": "code",
      "execution_count": null,
      "metadata": {
        "id": "pUvts2d7basW"
      },
      "outputs": [],
      "source": [
        "from keras.models import model_from_json\n",
        "\n",
        "with open(\"emotion_detector.json\", \"r\") as json_file:\n",
        "    loaded_model_json = json_file.read()\n",
        "\n",
        "loaded_model = model_from_json(loaded_model_json)\n",
        "\n",
        "loaded_model.load_weights(\"model_weights.h5\")"
      ]
    },
    {
      "cell_type": "code",
      "execution_count": null,
      "metadata": {
        "id": "HA3WoXP6dYwh"
      },
      "outputs": [],
      "source": [
        "labels = ['angry','disgust','fear','happy','neutral','sad','surprise']\n"
      ]
    },
    {
      "cell_type": "markdown",
      "metadata": {
        "id": "sBsO40bwNbpb"
      },
      "source": []
    },
    {
      "cell_type": "code",
      "execution_count": null,
      "metadata": {
        "id": "KsNvNPYTdnYQ"
      },
      "outputs": [],
      "source": [
        "from keras.preprocessing.image import load_img\n",
        "\n",
        "def ef(image, label):\n",
        "    feature = np.array(image)\n",
        "    feature = feature.reshape(1, 48, 48, 1)\n",
        "    return feature / 255.0, label\n",
        "\n",
        "image = x_test[10]\n",
        "label = y_test[10]\n",
        "print(\"Original label:\", label)\n",
        "img, true_label = ef(image, label)\n",
        "pred = model.predict(img)\n",
        "pred_label = labels[pred.argmax()]\n",
        "print(\"Model prediction:\", pred_label)\n"
      ]
    },
    {
      "cell_type": "code",
      "execution_count": 1,
      "metadata": {
        "id": "PKpt-gjahCN-"
      },
      "outputs": [
        {
          "name": "stdout",
          "output_type": "stream",
          "text": [
            "1/1 [==============================] - 1s 592ms/step\n",
            "1/1 [==============================] - 0s 52ms/step\n",
            "1/1 [==============================] - 0s 29ms/step\n",
            "1/1 [==============================] - 0s 39ms/step\n",
            "1/1 [==============================] - 0s 40ms/step\n",
            "1/1 [==============================] - 0s 61ms/step\n",
            "1/1 [==============================] - 0s 50ms/step\n",
            "1/1 [==============================] - 0s 45ms/step\n",
            "1/1 [==============================] - 0s 38ms/step\n",
            "1/1 [==============================] - 0s 53ms/step\n",
            "1/1 [==============================] - 0s 48ms/step\n",
            "1/1 [==============================] - 0s 47ms/step\n",
            "1/1 [==============================] - 0s 49ms/step\n",
            "1/1 [==============================] - 0s 50ms/step\n",
            "1/1 [==============================] - 0s 53ms/step\n",
            "1/1 [==============================] - 0s 40ms/step\n",
            "1/1 [==============================] - 0s 49ms/step\n",
            "1/1 [==============================] - 0s 38ms/step\n",
            "1/1 [==============================] - 0s 32ms/step\n",
            "1/1 [==============================] - 0s 53ms/step\n",
            "1/1 [==============================] - 0s 56ms/step\n",
            "1/1 [==============================] - 0s 62ms/step\n",
            "1/1 [==============================] - 0s 55ms/step\n",
            "1/1 [==============================] - 0s 57ms/step\n",
            "1/1 [==============================] - 0s 77ms/step\n",
            "1/1 [==============================] - 0s 45ms/step\n",
            "1/1 [==============================] - 0s 33ms/step\n",
            "1/1 [==============================] - 0s 54ms/step\n",
            "1/1 [==============================] - 0s 43ms/step\n",
            "1/1 [==============================] - 0s 40ms/step\n",
            "1/1 [==============================] - 0s 44ms/step\n",
            "1/1 [==============================] - 0s 51ms/step\n",
            "1/1 [==============================] - 0s 56ms/step\n",
            "1/1 [==============================] - 0s 49ms/step\n",
            "1/1 [==============================] - 0s 39ms/step\n",
            "1/1 [==============================] - 0s 45ms/step\n",
            "1/1 [==============================] - 0s 39ms/step\n",
            "1/1 [==============================] - 0s 40ms/step\n",
            "1/1 [==============================] - 0s 51ms/step\n",
            "1/1 [==============================] - 0s 55ms/step\n",
            "1/1 [==============================] - 0s 40ms/step\n",
            "1/1 [==============================] - 0s 39ms/step\n",
            "1/1 [==============================] - 0s 39ms/step\n",
            "1/1 [==============================] - 0s 37ms/step\n",
            "1/1 [==============================] - 0s 40ms/step\n",
            "1/1 [==============================] - 0s 36ms/step\n",
            "1/1 [==============================] - 0s 44ms/step\n",
            "1/1 [==============================] - 0s 36ms/step\n",
            "1/1 [==============================] - 0s 35ms/step\n",
            "1/1 [==============================] - 0s 35ms/step\n",
            "1/1 [==============================] - 0s 35ms/step\n",
            "1/1 [==============================] - 0s 38ms/step\n",
            "1/1 [==============================] - 0s 40ms/step\n",
            "1/1 [==============================] - 0s 38ms/step\n",
            "1/1 [==============================] - 0s 41ms/step\n",
            "1/1 [==============================] - 0s 40ms/step\n",
            "1/1 [==============================] - 0s 59ms/step\n",
            "1/1 [==============================] - 0s 62ms/step\n",
            "1/1 [==============================] - 0s 56ms/step\n",
            "1/1 [==============================] - 0s 40ms/step\n",
            "1/1 [==============================] - 0s 51ms/step\n",
            "1/1 [==============================] - 0s 55ms/step\n",
            "1/1 [==============================] - 0s 39ms/step\n",
            "1/1 [==============================] - 0s 37ms/step\n",
            "1/1 [==============================] - 0s 38ms/step\n",
            "1/1 [==============================] - 0s 40ms/step\n",
            "1/1 [==============================] - 0s 32ms/step\n",
            "1/1 [==============================] - 0s 29ms/step\n",
            "1/1 [==============================] - 0s 32ms/step\n",
            "1/1 [==============================] - 0s 29ms/step\n",
            "1/1 [==============================] - 0s 37ms/step\n",
            "1/1 [==============================] - 0s 39ms/step\n",
            "1/1 [==============================] - 0s 38ms/step\n",
            "1/1 [==============================] - 0s 41ms/step\n",
            "1/1 [==============================] - 0s 35ms/step\n",
            "1/1 [==============================] - 0s 42ms/step\n",
            "1/1 [==============================] - 0s 30ms/step\n",
            "1/1 [==============================] - 0s 36ms/step\n",
            "1/1 [==============================] - 0s 32ms/step\n",
            "1/1 [==============================] - 0s 29ms/step\n",
            "1/1 [==============================] - 0s 31ms/step\n",
            "1/1 [==============================] - 0s 33ms/step\n",
            "1/1 [==============================] - 0s 38ms/step\n",
            "1/1 [==============================] - 0s 29ms/step\n",
            "1/1 [==============================] - 0s 33ms/step\n",
            "1/1 [==============================] - 0s 30ms/step\n",
            "1/1 [==============================] - 0s 30ms/step\n",
            "1/1 [==============================] - 0s 38ms/step\n",
            "1/1 [==============================] - 0s 33ms/step\n",
            "1/1 [==============================] - 0s 30ms/step\n",
            "1/1 [==============================] - 0s 37ms/step\n",
            "1/1 [==============================] - 0s 29ms/step\n",
            "1/1 [==============================] - 0s 27ms/step\n",
            "1/1 [==============================] - 0s 41ms/step\n",
            "1/1 [==============================] - 0s 41ms/step\n",
            "1/1 [==============================] - 0s 38ms/step\n",
            "1/1 [==============================] - 0s 42ms/step\n",
            "1/1 [==============================] - 0s 31ms/step\n",
            "1/1 [==============================] - 0s 42ms/step\n",
            "1/1 [==============================] - 0s 36ms/step\n",
            "1/1 [==============================] - 0s 36ms/step\n",
            "1/1 [==============================] - 0s 33ms/step\n",
            "1/1 [==============================] - 0s 29ms/step\n",
            "1/1 [==============================] - 0s 37ms/step\n",
            "1/1 [==============================] - 0s 40ms/step\n",
            "1/1 [==============================] - 0s 32ms/step\n",
            "1/1 [==============================] - 0s 40ms/step\n",
            "1/1 [==============================] - 0s 40ms/step\n",
            "1/1 [==============================] - 0s 43ms/step\n",
            "1/1 [==============================] - 0s 31ms/step\n",
            "1/1 [==============================] - 0s 28ms/step\n",
            "1/1 [==============================] - 0s 41ms/step\n",
            "1/1 [==============================] - 0s 37ms/step\n",
            "1/1 [==============================] - 0s 36ms/step\n",
            "1/1 [==============================] - 0s 43ms/step\n",
            "1/1 [==============================] - 0s 35ms/step\n",
            "1/1 [==============================] - 0s 48ms/step\n",
            "1/1 [==============================] - 0s 38ms/step\n",
            "1/1 [==============================] - 0s 39ms/step\n",
            "1/1 [==============================] - 0s 33ms/step\n",
            "1/1 [==============================] - 0s 30ms/step\n",
            "1/1 [==============================] - 0s 31ms/step\n",
            "1/1 [==============================] - 0s 32ms/step\n",
            "1/1 [==============================] - 0s 30ms/step\n",
            "1/1 [==============================] - 0s 31ms/step\n",
            "1/1 [==============================] - 0s 34ms/step\n",
            "1/1 [==============================] - 0s 39ms/step\n",
            "1/1 [==============================] - 0s 42ms/step\n",
            "1/1 [==============================] - 0s 31ms/step\n",
            "1/1 [==============================] - 0s 31ms/step\n",
            "1/1 [==============================] - 0s 32ms/step\n",
            "1/1 [==============================] - 0s 41ms/step\n",
            "1/1 [==============================] - 0s 38ms/step\n",
            "1/1 [==============================] - 0s 29ms/step\n",
            "1/1 [==============================] - 0s 32ms/step\n",
            "1/1 [==============================] - 0s 39ms/step\n",
            "1/1 [==============================] - 0s 38ms/step\n",
            "1/1 [==============================] - 0s 33ms/step\n",
            "1/1 [==============================] - 0s 31ms/step\n",
            "1/1 [==============================] - 0s 39ms/step\n",
            "1/1 [==============================] - 0s 29ms/step\n",
            "1/1 [==============================] - 0s 38ms/step\n",
            "1/1 [==============================] - 0s 33ms/step\n",
            "1/1 [==============================] - 0s 39ms/step\n",
            "1/1 [==============================] - 0s 38ms/step\n",
            "1/1 [==============================] - 0s 36ms/step\n",
            "1/1 [==============================] - 0s 37ms/step\n",
            "1/1 [==============================] - 0s 36ms/step\n",
            "1/1 [==============================] - 0s 29ms/step\n",
            "1/1 [==============================] - 0s 39ms/step\n",
            "1/1 [==============================] - 0s 40ms/step\n",
            "1/1 [==============================] - 0s 40ms/step\n",
            "1/1 [==============================] - 0s 37ms/step\n",
            "1/1 [==============================] - 0s 34ms/step\n",
            "1/1 [==============================] - 0s 42ms/step\n",
            "1/1 [==============================] - 0s 37ms/step\n",
            "1/1 [==============================] - 0s 39ms/step\n",
            "1/1 [==============================] - 0s 35ms/step\n",
            "1/1 [==============================] - 0s 38ms/step\n",
            "1/1 [==============================] - 0s 36ms/step\n",
            "1/1 [==============================] - 0s 35ms/step\n",
            "1/1 [==============================] - 0s 64ms/step\n",
            "1/1 [==============================] - 0s 31ms/step\n",
            "1/1 [==============================] - 0s 39ms/step\n",
            "1/1 [==============================] - 0s 34ms/step\n",
            "1/1 [==============================] - 0s 31ms/step\n",
            "1/1 [==============================] - 0s 46ms/step\n",
            "1/1 [==============================] - 0s 39ms/step\n",
            "1/1 [==============================] - 0s 39ms/step\n",
            "1/1 [==============================] - 0s 32ms/step\n",
            "1/1 [==============================] - 0s 33ms/step\n",
            "1/1 [==============================] - 0s 31ms/step\n",
            "1/1 [==============================] - 0s 40ms/step\n",
            "1/1 [==============================] - 0s 35ms/step\n",
            "1/1 [==============================] - 0s 51ms/step\n",
            "1/1 [==============================] - 0s 51ms/step\n",
            "1/1 [==============================] - 0s 40ms/step\n",
            "1/1 [==============================] - 0s 42ms/step\n",
            "1/1 [==============================] - 0s 48ms/step\n",
            "1/1 [==============================] - 0s 39ms/step\n",
            "1/1 [==============================] - 0s 40ms/step\n",
            "1/1 [==============================] - 0s 33ms/step\n",
            "1/1 [==============================] - 0s 39ms/step\n",
            "1/1 [==============================] - 0s 39ms/step\n",
            "1/1 [==============================] - 0s 44ms/step\n",
            "1/1 [==============================] - 0s 32ms/step\n",
            "1/1 [==============================] - 0s 33ms/step\n",
            "1/1 [==============================] - 0s 49ms/step\n",
            "1/1 [==============================] - 0s 50ms/step\n",
            "1/1 [==============================] - 0s 40ms/step\n",
            "1/1 [==============================] - 0s 49ms/step\n",
            "1/1 [==============================] - 0s 46ms/step\n",
            "1/1 [==============================] - 0s 49ms/step\n",
            "1/1 [==============================] - 0s 40ms/step\n"
          ]
        }
      ],
      "source": [
        "import cv2\n",
        "import numpy as np\n",
        "from keras.models import model_from_json\n",
        "\n",
        "# Load the pre-trained emotion detection model\n",
        "with open(\"emotion_detector.json\", \"r\") as json_file:\n",
        "    loaded_model_json = json_file.read()\n",
        "\n",
        "loaded_model = model_from_json(loaded_model_json)\n",
        "loaded_model.load_weights(\"motion_detector_weights.h5\")\n",
        "\n",
        "# Define the emotion labels\n",
        "emotion_labels = ['angry', 'disgust', 'fear', 'happy', 'neutral', 'sad', 'surprise']\n",
        "\n",
        "# Initialize the webcam capture\n",
        "cap = cv2.VideoCapture(0)\n",
        "\n",
        "while True:\n",
        "    ret, frame = cap.read()\n",
        "\n",
        "    if not ret:\n",
        "        break\n",
        "\n",
        "    # Convert the frame to grayscale and resize it to match the model input size (48x48)\n",
        "    gray_frame = cv2.cvtColor(frame, cv2.COLOR_BGR2GRAY)\n",
        "    resized_frame = cv2.resize(gray_frame, (48, 48))\n",
        "\n",
        "    # Normalize the frame\n",
        "    normalized_frame = resized_frame / 255.0\n",
        "\n",
        "    # Make a prediction using the loaded model\n",
        "    prediction = loaded_model.predict(normalized_frame.reshape(1, 48, 48, 1))\n",
        "\n",
        "    # Get the emotion label with the highest probability\n",
        "    emotion = emotion_labels[np.argmax(prediction)]\n",
        "\n",
        "    # Display the emotion on the frame\n",
        "    cv2.putText(frame, \"Emotion: \" + emotion, (10, 30), cv2.FONT_HERSHEY_SIMPLEX, 1, (0, 0, 255), 2)\n",
        "\n",
        "    # Display the frame\n",
        "    cv2.imshow('Real-Time Emotion Detection', frame)\n",
        "\n",
        "    # Exit the loop when the 'q' key is pressed\n",
        "    if cv2.waitKey(1) & 0xFF == ord('q'):\n",
        "        break\n",
        "\n",
        "# Release the webcam and close all OpenCV windows\n",
        "cap.release()\n",
        "cv2.destroyAllWindows()\n"
      ]
    }
  ],
  "metadata": {
    "accelerator": "GPU",
    "colab": {
      "gpuType": "T4",
      "provenance": []
    },
    "kernelspec": {
      "display_name": "Python 3",
      "name": "python3"
    },
    "language_info": {
      "codemirror_mode": {
        "name": "ipython",
        "version": 3
      },
      "file_extension": ".py",
      "mimetype": "text/x-python",
      "name": "python",
      "nbconvert_exporter": "python",
      "pygments_lexer": "ipython3",
      "version": "3.11.5"
    }
  },
  "nbformat": 4,
  "nbformat_minor": 0
}
